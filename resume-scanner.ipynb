{
 "cells": [
  {
   "cell_type": "markdown",
   "metadata": {},
   "source": [
    "# ATS Python project"
   ]
  },
  {
   "cell_type": "code",
   "execution_count": 1,
   "metadata": {},
   "outputs": [
    {
     "name": "stdout",
     "output_type": "stream",
     "text": [
      "\u001b[2mResolved \u001b[1m40 packages\u001b[0m \u001b[2min 0.51ms\u001b[0m\u001b[0m\n",
      "\u001b[2mAudited \u001b[1m6 packages\u001b[0m \u001b[2min 0.02ms\u001b[0m\u001b[0m\n"
     ]
    }
   ],
   "source": [
    "!uv add docx2txt"
   ]
  },
  {
   "cell_type": "code",
   "execution_count": null,
   "metadata": {},
   "outputs": [],
   "source": [
    "import docx2txt\n",
    "resume = docx2txt.process('./data/Tomislav Dukez - CV - Nov 2024.docx')  # change path to your cv\n",
    "print(resume)"
   ]
  },
  {
   "cell_type": "code",
   "execution_count": 3,
   "metadata": {},
   "outputs": [
    {
     "name": "stdout",
     "output_type": "stream",
     "text": [
      "\n",
      "\n",
      "\n",
      "● A keen interest in software engineering and technology. \n",
      "\n",
      "● Basic understanding of any programming language (e.g., Python, JavaScript, Java, or similar) is a plus but not required. \n",
      "\n",
      "● Strong problem-solving skills and a willingness to learn. \n",
      "\n",
      "● Ability to work independently and remotely while staying connected with the team. \n",
      "\n",
      "● Excellent communication and teamwork skills.\n",
      "\n",
      "\n"
     ]
    }
   ],
   "source": [
    "# open file './data/job-descr.txt' and assign it to a variable job_descr\n",
    "with open('./data/job-descr2.txt', 'r') as f:  # I used txt for simplicity, but it can be done in the same manner as for the cv\n",
    "    job_descr = f.read()\n",
    "\n",
    "print(job_descr)"
   ]
  },
  {
   "cell_type": "code",
   "execution_count": 4,
   "metadata": {},
   "outputs": [],
   "source": [
    "# store data in a list\n",
    "data = [resume, job_descr]"
   ]
  },
  {
   "cell_type": "code",
   "execution_count": 5,
   "metadata": {},
   "outputs": [
    {
     "name": "stdout",
     "output_type": "stream",
     "text": [
      "\u001b[2mResolved \u001b[1m40 packages\u001b[0m \u001b[2min 0.54ms\u001b[0m\u001b[0m\n",
      "\u001b[2mAudited \u001b[1m6 packages\u001b[0m \u001b[2min 0.01ms\u001b[0m\u001b[0m\n"
     ]
    }
   ],
   "source": [
    "!uv add scikit-learn"
   ]
  },
  {
   "cell_type": "code",
   "execution_count": 6,
   "metadata": {},
   "outputs": [],
   "source": [
    "from sklearn.feature_extraction.text import CountVectorizer\n",
    "cv = CountVectorizer()\n",
    "count_matrix = cv.fit_transform(data)"
   ]
  },
  {
   "cell_type": "code",
   "execution_count": 7,
   "metadata": {},
   "outputs": [
    {
     "name": "stdout",
     "output_type": "stream",
     "text": [
      "[[1.         0.53419157]\n",
      " [0.53419157 1.        ]]\n"
     ]
    }
   ],
   "source": [
    "from sklearn.metrics.pairwise import cosine_similarity\n",
    "print(cosine_similarity(count_matrix))"
   ]
  },
  {
   "cell_type": "code",
   "execution_count": 8,
   "metadata": {},
   "outputs": [
    {
     "name": "stdout",
     "output_type": "stream",
     "text": [
      "53%\n"
     ]
    }
   ],
   "source": [
    "from sklearn.metrics.pairwise import cosine_similarity\n",
    "match = cosine_similarity(count_matrix)[0][1]\n",
    "match = round(match*100)\n",
    "print(f'{match}%')"
   ]
  },
  {
   "cell_type": "markdown",
   "metadata": {},
   "source": [
    "# Keywords identifications and comparison"
   ]
  },
  {
   "cell_type": "code",
   "execution_count": 9,
   "metadata": {},
   "outputs": [
    {
     "name": "stdout",
     "output_type": "stream",
     "text": [
      "Matched keywords: ['team', 'staying', 'python', 'problemsolving', 'ability', 'javascript', 'learn', 'language', 'communication', 'programming', 'software', 'strong']\n",
      "Unmatched keywords: ['similar', 'technology', 'plus', 'teamwork', 'connected', 'required', 'understanding', 'willingness', 'remotely', '●', 'java', 'excellent', 'engineering', 'keen', 'independently', 'basic']\n"
     ]
    }
   ],
   "source": [
    "# import string, and stop words in english\n",
    "import string\n",
    "from sklearn.feature_extraction.text import ENGLISH_STOP_WORDS\n",
    "\n",
    "english_stop_words = set(ENGLISH_STOP_WORDS)\n",
    "# add to the list some words that are not stop words but are not important for resume matching\n",
    "english_stop_words.add(\"experience\")\n",
    "english_stop_words.add(\"work\")\n",
    "english_stop_words.add(\"skills\")\n",
    "english_stop_words.add(\"skill\")\n",
    "english_stop_words.add(\"requirements\")\n",
    "\n",
    "def preprocess_text(text):\n",
    "    \"\"\"\n",
    "    Convert text to lowercase, remove punctuation,\n",
    "    and filter out common English stop words.\n",
    "    \"\"\"\n",
    "    # convert to lowercase\n",
    "    text = text.lower()\n",
    "    # remove punctuation using str.translate\n",
    "    text = text.translate(str.maketrans('', '', string.punctuation))\n",
    "    # split text into tokens/words\n",
    "    tokens = text.split()\n",
    "    # filter stop words\n",
    "    tokens = [word for word in tokens if word not in english_stop_words]\n",
    "    return tokens\n",
    "\n",
    "\n",
    "# Preprocess job description and resume texts\n",
    "job_tokens = preprocess_text(job_descr)\n",
    "resume_tokens = preprocess_text(resume)\n",
    "\n",
    "# Convert job description tokens into a set of unique keywords\n",
    "job_keywords = set(job_tokens)\n",
    "\n",
    "# Prepare lists to store matched and unmatched keywords\n",
    "matched_keywords = []\n",
    "unmatched_keywords = []\n",
    "\n",
    "for keyword in job_keywords:\n",
    "    if keyword in resume_tokens:\n",
    "        matched_keywords.append(keyword)\n",
    "    else:\n",
    "        unmatched_keywords.append(keyword)\n",
    "\n",
    "print(\"Matched keywords:\", matched_keywords)\n",
    "print(\"Unmatched keywords:\", unmatched_keywords)\n"
   ]
  },
  {
   "cell_type": "code",
   "execution_count": 10,
   "metadata": {},
   "outputs": [
    {
     "data": {
      "text/plain": [
       "['similar',\n",
       " 'technology',\n",
       " 'plus',\n",
       " 'teamwork',\n",
       " 'connected',\n",
       " 'required',\n",
       " 'understanding',\n",
       " 'willingness',\n",
       " 'remotely',\n",
       " '●',\n",
       " 'java',\n",
       " 'excellent',\n",
       " 'engineering',\n",
       " 'keen',\n",
       " 'independently',\n",
       " 'basic']"
      ]
     },
     "execution_count": 10,
     "metadata": {},
     "output_type": "execute_result"
    }
   ],
   "source": [
    "unmatched_keywords"
   ]
  },
  {
   "cell_type": "code",
   "execution_count": 11,
   "metadata": {},
   "outputs": [
    {
     "data": {
      "text/plain": [
       "['team',\n",
       " 'staying',\n",
       " 'python',\n",
       " 'problemsolving',\n",
       " 'ability',\n",
       " 'javascript',\n",
       " 'learn',\n",
       " 'language',\n",
       " 'communication',\n",
       " 'programming',\n",
       " 'software',\n",
       " 'strong']"
      ]
     },
     "execution_count": 11,
     "metadata": {},
     "output_type": "execute_result"
    }
   ],
   "source": [
    "matched_keywords"
   ]
  }
 ],
 "metadata": {
  "kernelspec": {
   "display_name": ".venv",
   "language": "python",
   "name": "python3"
  },
  "language_info": {
   "codemirror_mode": {
    "name": "ipython",
    "version": 3
   },
   "file_extension": ".py",
   "mimetype": "text/x-python",
   "name": "python",
   "nbconvert_exporter": "python",
   "pygments_lexer": "ipython3",
   "version": "3.12.7"
  }
 },
 "nbformat": 4,
 "nbformat_minor": 2
}
