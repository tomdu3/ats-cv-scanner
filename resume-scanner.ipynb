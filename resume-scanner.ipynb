{
 "cells": [
  {
   "cell_type": "markdown",
   "metadata": {},
   "source": [
    "# ATS Python project"
   ]
  },
  {
   "cell_type": "code",
   "execution_count": 1,
   "metadata": {},
   "outputs": [
    {
     "name": "stdout",
     "output_type": "stream",
     "text": [
      "\u001b[2mResolved \u001b[1m40 packages\u001b[0m \u001b[2min 0.51ms\u001b[0m\u001b[0m\n",
      "\u001b[2mAudited \u001b[1m6 packages\u001b[0m \u001b[2min 0.02ms\u001b[0m\u001b[0m\n"
     ]
    }
   ],
   "source": [
    "!uv add docx2txt"
   ]
  },
  {
   "cell_type": "code",
   "execution_count": 2,
   "metadata": {},
   "outputs": [
    {
     "name": "stdout",
     "output_type": "stream",
     "text": [
      "Tomislav Dukez\n",
      "\n",
      "Full Stack Developer – Django, Flask, FastAPI, Node.js, Python,  JavaScript, ML with Python, Tableau\n",
      "\n",
      "LinkedIn | GitHub | Website\n",
      "\n",
      "\n",
      "\n",
      "\n",
      "\n",
      "\n",
      "Zahna, Germany\n",
      "\n",
      "tomdu3@ymail.com\n",
      "\n",
      "\n",
      "\n",
      "\n",
      "\n",
      "I am a Full-stack Software Development with a specialization in Predictive Analytics from the Code Institute, Dublin.\n",
      "\n",
      "Technologies and Languages\n",
      "\n",
      "Languages: HTML, CSS, JavaScript, Python, TypeScript, C, SQL\n",
      "\n",
      "Technologies: NodeJS, ExpressJS, Flask, Django, Bootstrap, Tailwind, Automated Testing in Python and JS: Unittest, Pytest, Jest; SQLite3, PostgreSQL, jQuery, React; Data Science and Machine Learning: NumPy, Pandas, Matplotlib, Seaborn, Plotly, Scikit-Learn, TensorFlow, Streamlit, Jupyter Notebook, Tableau, Excel, Git, GitHub\n",
      "\n",
      "Other: Heroku, Data Structures and Algorithms, Agile Development, UI/UX Design, Software Project Management, Docker.\n",
      "\n",
      "\n",
      "\n",
      "I have experience as a University Lecturer, diplomat, and Officer-in-Charge in Public Administration. I’m skilled in communication and problem-solving, with a strong interest in back-end development and coding tutoring. I’m especially passionate about data analysis and database management.\n",
      "\n",
      "\n",
      "\n",
      "Projects\n",
      "\n",
      "Hungry Hippo (Code | View Site)\n",
      "\n",
      "Hungry Hippo is a Full Stack Web Application developed during the 50th Voyage organized by Chingu. This project simulates an online food delivery service, providing users with a seamless experience to browse and order food from various restaurants. Technologies Used: JavaScript, TypeScript, React, Tailwind, NodeJS, Express.js, PostgreSQL.\n",
      "\n",
      "User-friendly interface for browsing food options\n",
      "\n",
      "Real-time order processing functionality\n",
      "\n",
      "Restaurant selection and menu display\n",
      "\n",
      "Responsive design for optimal mobile and desktop usage\n",
      "\n",
      "Secure authentication and user account management  \n",
      "\n",
      "Brain Tumor Detector (Code | View Site)\n",
      "\n",
      "A Machine Learning project developed using Python, TensorFlow, and various libraries like NumPy, Matplotlib, and Seaborn, aimed at distinguishing between healthy brain MRI scans and those with tumors. This tool features a user-friendly Streamlit Dashboard that allows clients to upload MRI brain scans for tumor diagnosis predictions.\n",
      "\n",
      "Streamlit Dashboard for easy uploads\n",
      "\n",
      "Utilizes TensorFlow for machine learning-based predictions\n",
      "\n",
      "Incorporates data visualization with Matplotlib, Seaborn, and Plotly\n",
      "\n",
      "Offers advanced tuning with Keras Tuner and Scikit-Learn\n",
      "\n",
      "\n",
      "\n",
      "Books for Life (Code | View Site)\n",
      "\n",
      "Books for Life is a Full Stack website designed as a platform for book enthusiasts to share and discover their favorite books. Technologies Used: Python, HTML, CSS, JavaScript, jQuery, Django, Bootstrap, PostgreSQL.\n",
      "\n",
      "User registration and authentication\n",
      "\n",
      "Book submission and review system\n",
      "\n",
      "Search and filter functionality for easy discovery\n",
      "\n",
      "Responsive design for seamless access on various devices\n",
      "\n",
      "Community-driven platform fostering interaction among book lovers  \n",
      "\n",
      "Out and About (Code | View Site)\n",
      "\n",
      "Out and About is a winning project from the Code Institute Hackathon that showcases significant events throughout history related to the LGBTQ+ community worldwide. The site features an interactive globe, allowing users to rotate, zoom, and click on countries marked with pride flags to learn about related events. Technologies Used: Python, Flask, PostgreSQL, HTML, CSS, TailwindCSS, JavaScript.\n",
      "\n",
      "Interactive globe feature for exploring global events\n",
      "\n",
      "Country-specific information accessible via pride flag markers\n",
      "\n",
      "User-friendly design to enhance engagement and learning\n",
      "\n",
      "Comprehensive timeline of LGBTQ+ historical events\n",
      "\n",
      "Responsive interface for various devices  \n",
      "\n",
      "\n",
      "\n",
      "Smiley Memories (Code | View Site)\n",
      "\n",
      "Smiley’s Memories is a responsive and interactive front-end memory game featuring a fun Smiley Emoji theme. This project was completed as part of the Code Institute’s Full-Stack Web Development diploma program, showcasing skills in web development and user engagement. Technologies Used: HTML5, CSS3, and Vanilla JavaScript.\n",
      "\n",
      "Engaging and playful Smiley Emoji-themed design\n",
      "\n",
      "Interactive gameplay designed for memory enhancement\n",
      "\n",
      "Fully responsive layout ensuring compatibility across devices\n",
      "\n",
      "Simple and intuitive user interface for all ages\n",
      "\n",
      "Smooth animations and interactive feedback for game actions  \n",
      "\n",
      "\n",
      "\n",
      "Experience\n",
      "\n",
      "\n",
      "\n",
      "Chingu - Voyage 50: Project Owner - Backend Lead (NodeJS, ExpressJS, TypeScript, PostgreSQL)\n",
      "\n",
      "July – August 2024\n",
      "\n",
      "Led the backend development of Hungry Hippo, a full-stack food delivery web application. \n",
      "\n",
      "Utilized Node.js, Express, and PostgreSQL to design and implement robust APIs that facilitated seamless order management and tracking.\n",
      "\n",
      "Collaborated with a team of frontend developers using React, Tailwind, and TypeScript to ensure an optimal user experience.\n",
      "\n",
      "Successfully managed project timelines and deliverables within an agile environment.\n",
      "\n",
      "\n",
      "\n",
      "\n",
      "\n",
      "\n",
      "London School of Informatics - Data Analyst, Associate (Python, Jupyter Notebook, Tableau, TensorFlow, Scikit-Learn, Pandas, Matplotlib)\n",
      "\n",
      "April – June 2024\n",
      "\n",
      "Team Lead in performing research and analysis to assist ERP (Enterprise Resource Planning) companies in staying ahead of their competition.\n",
      "\n",
      "Compiled data using data visualization (Excel) by working with senior Data analysts to get meaningful insights that improve organizational processes.\n",
      "\n",
      "Participated in in-house workshops to improve industry knowledge\n",
      "\n",
      "\n",
      "\n",
      "Freelance - Junior Full-Stack Developer - Coding Tutor\n",
      "\n",
      "2023 - Present\n",
      "\n",
      "Providing personalized tutoring in Python, Front End (HTML, CSS, JavaScript, jQuery), and Back End (Django, Flask, NodeJS) technologies to help individuals and groups gain practical coding skills and solve programming challenges. My unique blend of technical expertise and teaching ability enables me to facilitate effective learning experiences for my students.\n",
      "\n",
      "\n",
      "\n",
      "\t\t\n",
      "\n",
      "\t\tEducation\tInterests\n",
      "\n",
      "\n",
      "\n",
      "\t\t\t\n",
      "\n",
      "\n",
      "\n",
      "Data Science Training Program at London School of Informatics, UK\n",
      "\n",
      "October 2023 - February 2024\n",
      "\n",
      "\tData Science Fundamentals\n",
      "\n",
      "\tPython Data Science libraries and tools\n",
      "\n",
      "\tMS Excel, Tableau, Intro to PowerBI\n",
      "\n",
      "\n",
      "\n",
      "Diploma in Full Stack Software Development with Specialization in Predictive Analytics, at Code Institute, Dublin, Ireland\n",
      "\n",
      "October 2022 – February 2024\n",
      "\n",
      "(Credit Rated by University of West of Scotland)\n",
      "\n",
      "\tHTML, CSS, JavaScript\n",
      "\n",
      "\tPython\n",
      "\n",
      "\tPython Backend (Flask, Django)\n",
      "\n",
      "\tSQL, SQLite3, PostgreSQL\n",
      "\n",
      "\tUnit Testing (Jest, Untittest, Pytest)\n",
      "\n",
      "\tGit / GitHub\n",
      "\n",
      "\tMachine Learning Libraries and Tools: NumPy, Pandas, TensorFlow, Matplotlib, Scikit-Learn, Streamlit\n",
      "\n",
      "\n",
      "\n",
      "PhD in Law, Canon Law \n",
      "\n",
      "Faculty of Canon Law, Pontifical Lateran University, Rome, Italy (2010-2011)\n",
      "\n",
      "\n",
      "\n",
      "BSc Hons in Theology, Humanities\n",
      "\n",
      "Faculty of Theology in Zagreb and in Dakovo, University of Zagreb, Croatia (1998-2003)\n",
      "\n",
      "\n",
      "Coding: I’m a dedicated coder and Linux user with a strong interest in Data Analytics, Machine Learning, and Full Stack Software Development (BE Heavy).\n",
      "\n",
      "\n",
      "\n",
      "Education: I enjoy educating others in coding and working in educational programs to help individuals learn and grow in their programming skills.\n",
      "\n",
      "\n",
      "\n",
      "Other Interests: I have a love for math, classical music, literature (especially poetry), cycling, and traveling, which enrich my perspective and creativity.\n",
      "\n",
      "\n",
      "\n",
      "Language Skills: I am a native Croatian speaker, fluent in Italian and English, with beginner proficiency in German and French.\n"
     ]
    }
   ],
   "source": [
    "import docx2txt\n",
    "resume = docx2txt.process('./data/Tomislav Dukez - CV - Nov 2024.docx')  # change path to your cv\n",
    "print(resume)"
   ]
  },
  {
   "cell_type": "code",
   "execution_count": 3,
   "metadata": {},
   "outputs": [
    {
     "name": "stdout",
     "output_type": "stream",
     "text": [
      "\n",
      "\n",
      "\n",
      "● A keen interest in software engineering and technology. \n",
      "\n",
      "● Basic understanding of any programming language (e.g., Python, JavaScript, Java, or similar) is a plus but not required. \n",
      "\n",
      "● Strong problem-solving skills and a willingness to learn. \n",
      "\n",
      "● Ability to work independently and remotely while staying connected with the team. \n",
      "\n",
      "● Excellent communication and teamwork skills.\n",
      "\n",
      "\n"
     ]
    }
   ],
   "source": [
    "# open file './data/job-descr.txt' and assign it to a variable job_descr\n",
    "with open('./data/job-descr2.txt', 'r') as f:  # I used txt for simplicity, but it can be done in the same manner as for the cv\n",
    "    job_descr = f.read()\n",
    "\n",
    "print(job_descr)"
   ]
  },
  {
   "cell_type": "code",
   "execution_count": 4,
   "metadata": {},
   "outputs": [],
   "source": [
    "# store data in a list\n",
    "data = [resume, job_descr]"
   ]
  },
  {
   "cell_type": "code",
   "execution_count": 5,
   "metadata": {},
   "outputs": [
    {
     "name": "stdout",
     "output_type": "stream",
     "text": [
      "\u001b[2mResolved \u001b[1m40 packages\u001b[0m \u001b[2min 0.54ms\u001b[0m\u001b[0m\n",
      "\u001b[2mAudited \u001b[1m6 packages\u001b[0m \u001b[2min 0.01ms\u001b[0m\u001b[0m\n"
     ]
    }
   ],
   "source": [
    "!uv add scikit-learn"
   ]
  },
  {
   "cell_type": "code",
   "execution_count": 6,
   "metadata": {},
   "outputs": [],
   "source": [
    "from sklearn.feature_extraction.text import CountVectorizer\n",
    "cv = CountVectorizer()\n",
    "count_matrix = cv.fit_transform(data)"
   ]
  },
  {
   "cell_type": "code",
   "execution_count": 7,
   "metadata": {},
   "outputs": [
    {
     "name": "stdout",
     "output_type": "stream",
     "text": [
      "[[1.         0.53419157]\n",
      " [0.53419157 1.        ]]\n"
     ]
    }
   ],
   "source": [
    "from sklearn.metrics.pairwise import cosine_similarity\n",
    "print(cosine_similarity(count_matrix))"
   ]
  },
  {
   "cell_type": "code",
   "execution_count": 8,
   "metadata": {},
   "outputs": [
    {
     "name": "stdout",
     "output_type": "stream",
     "text": [
      "53%\n"
     ]
    }
   ],
   "source": [
    "from sklearn.metrics.pairwise import cosine_similarity\n",
    "match = cosine_similarity(count_matrix)[0][1]\n",
    "match = round(match*100)\n",
    "print(f'{match}%')"
   ]
  },
  {
   "cell_type": "markdown",
   "metadata": {},
   "source": [
    "# Keywords identifications and comparison"
   ]
  },
  {
   "cell_type": "code",
   "execution_count": 9,
   "metadata": {},
   "outputs": [
    {
     "name": "stdout",
     "output_type": "stream",
     "text": [
      "Matched keywords: ['team', 'staying', 'python', 'problemsolving', 'ability', 'javascript', 'learn', 'language', 'communication', 'programming', 'software', 'strong']\n",
      "Unmatched keywords: ['similar', 'technology', 'plus', 'teamwork', 'connected', 'required', 'understanding', 'willingness', 'remotely', '●', 'java', 'excellent', 'engineering', 'keen', 'independently', 'basic']\n"
     ]
    }
   ],
   "source": [
    "# import string, and stop words in english\n",
    "import string\n",
    "from sklearn.feature_extraction.text import ENGLISH_STOP_WORDS\n",
    "\n",
    "english_stop_words = set(ENGLISH_STOP_WORDS)\n",
    "# add to the list some words that are not stop words but are not important for resume matching\n",
    "english_stop_words.add(\"experience\")\n",
    "english_stop_words.add(\"work\")\n",
    "english_stop_words.add(\"skills\")\n",
    "english_stop_words.add(\"skill\")\n",
    "english_stop_words.add(\"requirements\")\n",
    "\n",
    "def preprocess_text(text):\n",
    "    \"\"\"\n",
    "    Convert text to lowercase, remove punctuation,\n",
    "    and filter out common English stop words.\n",
    "    \"\"\"\n",
    "    # convert to lowercase\n",
    "    text = text.lower()\n",
    "    # remove punctuation using str.translate\n",
    "    text = text.translate(str.maketrans('', '', string.punctuation))\n",
    "    # split text into tokens/words\n",
    "    tokens = text.split()\n",
    "    # filter stop words\n",
    "    tokens = [word for word in tokens if word not in english_stop_words]\n",
    "    return tokens\n",
    "\n",
    "\n",
    "# Preprocess job description and resume texts\n",
    "job_tokens = preprocess_text(job_descr)\n",
    "resume_tokens = preprocess_text(resume)\n",
    "\n",
    "# Convert job description tokens into a set of unique keywords\n",
    "job_keywords = set(job_tokens)\n",
    "\n",
    "# Prepare lists to store matched and unmatched keywords\n",
    "matched_keywords = []\n",
    "unmatched_keywords = []\n",
    "\n",
    "for keyword in job_keywords:\n",
    "    if keyword in resume_tokens:\n",
    "        matched_keywords.append(keyword)\n",
    "    else:\n",
    "        unmatched_keywords.append(keyword)\n",
    "\n",
    "print(\"Matched keywords:\", matched_keywords)\n",
    "print(\"Unmatched keywords:\", unmatched_keywords)\n"
   ]
  },
  {
   "cell_type": "code",
   "execution_count": 10,
   "metadata": {},
   "outputs": [
    {
     "data": {
      "text/plain": [
       "['similar',\n",
       " 'technology',\n",
       " 'plus',\n",
       " 'teamwork',\n",
       " 'connected',\n",
       " 'required',\n",
       " 'understanding',\n",
       " 'willingness',\n",
       " 'remotely',\n",
       " '●',\n",
       " 'java',\n",
       " 'excellent',\n",
       " 'engineering',\n",
       " 'keen',\n",
       " 'independently',\n",
       " 'basic']"
      ]
     },
     "execution_count": 10,
     "metadata": {},
     "output_type": "execute_result"
    }
   ],
   "source": [
    "unmatched_keywords"
   ]
  },
  {
   "cell_type": "code",
   "execution_count": 11,
   "metadata": {},
   "outputs": [
    {
     "data": {
      "text/plain": [
       "['team',\n",
       " 'staying',\n",
       " 'python',\n",
       " 'problemsolving',\n",
       " 'ability',\n",
       " 'javascript',\n",
       " 'learn',\n",
       " 'language',\n",
       " 'communication',\n",
       " 'programming',\n",
       " 'software',\n",
       " 'strong']"
      ]
     },
     "execution_count": 11,
     "metadata": {},
     "output_type": "execute_result"
    }
   ],
   "source": [
    "matched_keywords"
   ]
  },
  {
   "cell_type": "code",
   "execution_count": null,
   "metadata": {},
   "outputs": [],
   "source": []
  }
 ],
 "metadata": {
  "kernelspec": {
   "display_name": ".venv",
   "language": "python",
   "name": "python3"
  },
  "language_info": {
   "codemirror_mode": {
    "name": "ipython",
    "version": 3
   },
   "file_extension": ".py",
   "mimetype": "text/x-python",
   "name": "python",
   "nbconvert_exporter": "python",
   "pygments_lexer": "ipython3",
   "version": "3.12.7"
  }
 },
 "nbformat": 4,
 "nbformat_minor": 2
}
